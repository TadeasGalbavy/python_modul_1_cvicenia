{
 "cells": [
  {
   "cell_type": "code",
   "execution_count": null,
   "id": "5d0949c9",
   "metadata": {},
   "outputs": [
    {
     "name": "stdout",
     "output_type": "stream",
     "text": [
      "{'sci-fi': ['Inception', 'Matrix'], 'romantika': ['Titanic', 'Notebook'], 'muzikal': ['La La Land']}\n",
      "romantika\n"
     ]
    }
   ],
   "source": [
    "# Úloha 1: Zaradenie filmov podľa žánru\n",
    "# \n",
    "# Zadanie:\n",
    "# Máš zoznam filmov, každý film má názov a žáner.\n",
    "# Vytvor slovník `filmy_podla_zanru`, kde:\n",
    "# - kľúčom bude žáner,\n",
    "# - hodnotou zoznam názvov filmov.\n",
    "\n",
    "filmy = [\n",
    "    {\"nazov\": \"Inception\", \"zaner\": \"sci-fi\"},\n",
    "    {\"nazov\": \"Titanic\", \"zaner\": \"romantika\"},\n",
    "    {\"nazov\": \"Matrix\", \"zaner\": \"sci-fi\"},\n",
    "    {\"nazov\": \"La La Land\", \"zaner\": \"muzikal\"},\n",
    "    {\"nazov\": \"Notebook\", \"zaner\": \"romantika\"}\n",
    "]\n",
    "\n",
    "#tvoj kód sem\n",
    "# Vytvoríme prázdny slovník, kde budeme ukladať filmy podľa žánru\n",
    "filmy_podla_zanru = {}\n",
    "\n",
    "# Prechádzame každý film v zozname \"filmy\"\n",
    "for film in filmy:\n",
    "    # Z každého filmu vytiahneme hodnotu pre \"zaner\" (napr. \"sci-fi\") a \"nazov\" (napr. \"Inception\")\n",
    "    zaner = film[\"zaner\"]\n",
    "    nazov = film[\"nazov\"]\n",
    "\n",
    "    # Ak žáner (napr. \"sci-fi\") už existuje ako kľúč v slovníku\n",
    "    if zaner in filmy_podla_zanru:\n",
    "        # Tak do existujúceho zoznamu názvov filmov v tom žánri pridáme nový názov filmu\n",
    "        filmy_podla_zanru[zaner].append(nazov)\n",
    "    else:\n",
    "        # Ak žáner ešte v slovníku nie je, vytvoríme nový záznam\n",
    "        # a nastavíme ho ako zoznam, ktorý obsahuje aktuálny názov filmu\n",
    "        filmy_podla_zanru[zaner] = [nazov]\n",
    "\n",
    "# Vypíšeme výsledný slovník, kde:\n",
    "# - kľúčom je žáner (napr. \"sci-fi\")\n",
    "# - hodnotou je zoznam všetkých filmov v tomto žánri\n",
    "print(filmy_podla_zanru)"
   ]
  },
  {
   "cell_type": "code",
   "execution_count": null,
   "id": "9d21d0bb",
   "metadata": {},
   "outputs": [
    {
     "name": "stdout",
     "output_type": "stream",
     "text": [
      "{'Slovensko': 3, 'Česko': 2, 'Rakúsko': 1}\n"
     ]
    }
   ],
   "source": [
    "# Úloha 2: Počet predaných kusov podľa krajiny\n",
    "# \n",
    "# Zadanie:\n",
    "# Máš zoznam predajov. Každý predaj obsahuje meno krajiny.\n",
    "# Spočítaj, koľko predajov bolo v každej krajine.\n",
    "\n",
    "predaje = [\n",
    "    {\"krajina\": \"Slovensko\"},\n",
    "    {\"krajina\": \"Česko\"},\n",
    "    {\"krajina\": \"Slovensko\"},\n",
    "    {\"krajina\": \"Rakúsko\"},\n",
    "    {\"krajina\": \"Česko\"},\n",
    "    {\"krajina\": \"Slovensko\"}\n",
    "]\n",
    "\n",
    "# Tvoj kód sem\n",
    "\n",
    "predaje_podla_krajiny = {}\n",
    "\n",
    "# Prechádzame každý záznam v zozname \"predaje\"\n",
    "for predaj in predaje:\n",
    "    # Z aktuálneho predaja si vytiahneme názov krajiny\n",
    "    krajina = predaj[\"krajina\"] #krajina má úvodzovky lebo sa dopitujeme na kľúč v slovníku - tento dopyt vráti jeho hodnotu\n",
    "\n",
    "    # Skontrolujeme, či už táto krajina existuje ako kľúč v slovníku\n",
    "    if krajina in predaje_podla_krajiny:\n",
    "        # Ak existuje, znamená to, že už sme predaj v tejto krajine zaznamenali\n",
    "        # Takže k existujúcemu počtu predajov pripočítame 1\n",
    "        predaje_podla_krajiny[krajina] += 1 #tu nie sú úvodzovky lebo sa jedná o premennú krajina, ktorú sme si vytvorili vyššie\n",
    "    else:\n",
    "        # Ak krajina ešte v slovníku neexistuje, znamená to, že ide o prvý predaj v tejto krajine\n",
    "        # Nastavíme počet predajov na 1\n",
    "        predaje_podla_krajiny[krajina] = 1\n",
    "\n",
    "# Po dokončení cyklu vypíšeme slovník,\n",
    "# ktorý obsahuje počet predajov pre každú krajinu\n",
    "print(predaje_podla_krajiny)"
   ]
  },
  {
   "cell_type": "code",
   "execution_count": null,
   "id": "ac77b944",
   "metadata": {},
   "outputs": [
    {
     "name": "stdout",
     "output_type": "stream",
     "text": [
      "['admin123', 'Heslo1', 'superheslo', 'BezpecneHeslo1', 'koder123', 'Programovanie']\n",
      "[]\n"
     ]
    }
   ],
   "source": [
    "# Úloha 3: Zoznam správnych hesiel\n",
    "# \n",
    "# Zadanie:\n",
    "# Máš zoznam hesiel.\n",
    "# Vyber heslá, ktoré majú:\n",
    "# - aspoň 8 znakov,\n",
    "# - aspoň jedno číslo,\n",
    "# - aspoň jedno veľké písmeno.\n",
    "# Platné heslá ulož do `platne_hesla`, ostatné do `neplatne_hesla`.\n",
    "\n",
    "hesla = [\n",
    "    \"admin123\",\n",
    "    \"Heslo1\",\n",
    "    \"superheslo\",\n",
    "    \"BezpecneHeslo1\",\n",
    "    \"koder123\",\n",
    "    \"Programovanie\"\n",
    "]\n",
    "\n",
    "# Prázdne zoznamy na uloženie platných a neplatných hesiel\n",
    "platne_hesla = []\n",
    "neplatne_hesla = []\n",
    "\n",
    "# Prechádzame každé heslo v zozname\n",
    "for heslo in hesla:\n",
    "    # Predpokladáme, že heslo zatiaľ neobsahuje číslo ani veľké písmeno\n",
    "    obsahuje_cislo = False\n",
    "    obsahuje_velke = False\n",
    "\n",
    "    # Prechádzame každý znak v hesle\n",
    "    for znak in heslo:\n",
    "        if znak.isdigit():\n",
    "            obsahuje_cislo = True\n",
    "        if znak.isupper():\n",
    "            obsahuje_velke = True\n",
    "\n",
    "    # Teraz skontrolujeme všetky tri podmienky:\n",
    "    # - heslo má aspoň 8 znakov\n",
    "    # - heslo obsahuje aspoň jedno číslo\n",
    "    # - heslo obsahuje aspoň jedno veľké písmeno\n",
    "    if len(heslo) >= 8 and obsahuje_cislo and obsahuje_velke:\n",
    "        platne_hesla.append(heslo)\n",
    "    else:\n",
    "        neplatne_hesla.append(heslo)\n",
    "\n",
    "# Výpis výsledkov\n",
    "print(\"Platné heslá sú:\")\n",
    "print(platne_hesla)\n",
    "\n",
    "print(\"Neplatné heslá sú:\")\n",
    "print(neplatne_hesla)\n"
   ]
  },
  {
   "cell_type": "code",
   "execution_count": null,
   "id": "773b2b6d",
   "metadata": {},
   "outputs": [
    {
     "name": "stdout",
     "output_type": "stream",
     "text": [
      "{'A': ['Notebook', 'Chladnička'], 'B': ['Televízia', 'Tablet'], 'C': ['Práčka']}\n"
     ]
    }
   ],
   "source": [
    "# Úloha 4: Rozdelenie produktov podľa skladov\n",
    "# \n",
    "# Zadanie:\n",
    "# Máš zoznam produktov, kde každý má názov a sklad (napr. \"A\", \"B\", \"C\").\n",
    "# Vytvor slovník `produkty_podla_skladu`, kde kľúč bude sklad a hodnotou zoznam produktov.\n",
    "\n",
    "produkty = [\n",
    "    {\"nazov\": \"Notebook\", \"sklad\": \"A\"},\n",
    "    {\"nazov\": \"Televízia\", \"sklad\": \"B\"},\n",
    "    {\"nazov\": \"Chladnička\", \"sklad\": \"A\"},\n",
    "    {\"nazov\": \"Práčka\", \"sklad\": \"C\"},\n",
    "    {\"nazov\": \"Tablet\", \"sklad\": \"B\"}\n",
    "]\n",
    "\n",
    "# Tvoj kód sem\n",
    "\n",
    "# Vytvoríme prázdny slovník, do ktorého budeme ukladať produkty podľa skladu\n",
    "produkty_podla_skladu = {}\n",
    "\n",
    "# Prechádzame každý produkt zo zoznamu \"produkty\"\n",
    "for produkt in produkty:\n",
    "    # Z každého produktu vytiahneme hodnotu pre \"sklad\" (napr. \"A\") a \"nazov\" (napr. \"Notebook\")\n",
    "    sklad = produkt[\"sklad\"]\n",
    "    nazov = produkt[\"nazov\"]\n",
    "\n",
    "    # Skontrolujeme, či už daný sklad existuje v našom slovníku\n",
    "    if sklad in produkty_podla_skladu:\n",
    "        # Ak sklad existuje, pridáme názov produktu do existujúceho zoznamu pre tento sklad\n",
    "        produkty_podla_skladu[sklad].append(nazov)\n",
    "    else:\n",
    "        # Ak sklad ešte v slovníku neexistuje, vytvoríme nový záznam\n",
    "        # a nastavíme ho ako zoznam obsahujúci aktuálny produkt\n",
    "        produkty_podla_skladu[sklad] = [nazov]\n",
    "\n",
    "# Po skončení cyklu vypíšeme výsledný slovník\n",
    "# Kde kľúčom je sklad (\"A\", \"B\", \"C\") a hodnotou je zoznam produktov v tom sklade\n",
    "print(produkty_podla_skladu)"
   ]
  },
  {
   "cell_type": "code",
   "execution_count": null,
   "id": "eb2b6517",
   "metadata": {},
   "outputs": [
    {
     "name": "stdout",
     "output_type": "stream",
     "text": [
      "{'gmail.com': 2, 'centrum.sk': 1, 'yahoo.com': 1, 'zoznam.sk': 1, 'seznam.cz': 2}\n"
     ]
    }
   ],
   "source": [
    "# Úloha 5: Počet emailov podľa domény (ťažšia)\n",
    "# \n",
    "# Zadanie:\n",
    "# Máš zoznam emailov.\n",
    "# Spočítaj, koľko emailov patrí každej doméne (napr. gmail.com, seznam.cz, zoznam.sk atď.).\n",
    "\n",
    "emaily = [\n",
    "    \"peter123@gmail.com\",\n",
    "    \"jana@centrum.sk\",\n",
    "    \"lucia@yahoo.com\",\n",
    "    \"martin@zoznam.sk\",\n",
    "    \"admin007@seznam.cz\",\n",
    "    \"katka@seznam.cz\",\n",
    "    \"juro@gmail.com\"\n",
    "]\n",
    "\n",
    "domeny = {}\n",
    "\n",
    "# Tvoj kód sem\n",
    "meno_emailu = []\n",
    "domena_emailu = []\n",
    "\n",
    "for email in emaily:\n",
    "    meno, domena = email.split(\"@\")\n",
    "    meno_emailu.append(meno)\n",
    "    domena_emailu.append(domena)\n",
    "\n",
    "for domena in domena_emailu:\n",
    "    if domena in domeny:\n",
    "        domeny[domena] += 1\n",
    "    else:\n",
    "        domeny[domena] = 1\n",
    "\n",
    "\n",
    "print(domeny)"
   ]
  },
  {
   "cell_type": "code",
   "execution_count": null,
   "id": "6d22597b",
   "metadata": {},
   "outputs": [],
   "source": [
    "test"
   ]
  }
 ],
 "metadata": {
  "kernelspec": {
   "display_name": "Python 3",
   "language": "python",
   "name": "python3"
  },
  "language_info": {
   "codemirror_mode": {
    "name": "ipython",
    "version": 3
   },
   "file_extension": ".py",
   "mimetype": "text/x-python",
   "name": "python",
   "nbconvert_exporter": "python",
   "pygments_lexer": "ipython3",
   "version": "3.13.2"
  }
 },
 "nbformat": 4,
 "nbformat_minor": 5
}
