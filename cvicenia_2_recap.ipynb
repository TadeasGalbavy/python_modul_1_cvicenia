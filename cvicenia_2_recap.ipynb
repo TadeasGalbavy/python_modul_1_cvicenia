{
 "cells": [
  {
   "cell_type": "code",
   "execution_count": null,
   "id": "5d0949c9",
   "metadata": {},
   "outputs": [
    {
     "name": "stdout",
     "output_type": "stream",
     "text": [
      "Zaner: sci-fi\n",
      "Nazov: sci-fi\n",
      "Zaner: romantika\n",
      "Nazov: romantika\n",
      "Zaner: sci-fi\n",
      "Nazov: sci-fi\n",
      "Zaner: muzikal\n",
      "Nazov: muzikal\n",
      "Zaner: romantika\n",
      "Nazov: romantika\n"
     ]
    }
   ],
   "source": [
    "# Úloha 1: Zaradenie filmov podľa žánru\n",
    "# \n",
    "# Zadanie:\n",
    "# Máš zoznam filmov, každý film má názov a žáner.\n",
    "# Vytvor slovník `filmy_podla_zanru`, kde:\n",
    "# - kľúčom bude žáner,\n",
    "# - hodnotou zoznam názvov filmov.\n",
    "\n",
    "filmy = [\n",
    "    {\"nazov\": \"Inception\", \"zaner\": \"sci-fi\"},\n",
    "    {\"nazov\": \"Titanic\", \"zaner\": \"romantika\"},\n",
    "    {\"nazov\": \"Matrix\", \"zaner\": \"sci-fi\"},\n",
    "    {\"nazov\": \"La La Land\", \"zaner\": \"muzikal\"},\n",
    "    {\"nazov\": \"Notebook\", \"zaner\": \"romantika\"}\n",
    "]\n",
    "\n",
    "#tvoj kód sem\n",
    "\n",
    "filmy_podla_zanru = {}\n",
    "\n",
    "for film in filmy:\n",
    "    zaner = film[\"zaner\"]\n",
    "    nazov = film[\"nazov\"]\n",
    "\n",
    "    if zaner in filmy_podla_zanru:\n",
    "        filmy_podla_zanru[zaner].append(nazov)\n",
    "    else:\n",
    "        filmy_podla_zanru[zaner] = [nazov]\n",
    "\n",
    "print(filmy_podla_zanru)"
   ]
  },
  {
   "cell_type": "code",
   "execution_count": 5,
   "id": "9d21d0bb",
   "metadata": {},
   "outputs": [
    {
     "name": "stdout",
     "output_type": "stream",
     "text": [
      "{'Slovensko': 3, 'Česko': 2, 'Rakúsko': 1}\n"
     ]
    }
   ],
   "source": [
    "# Úloha 2: Počet predaných kusov podľa krajiny\n",
    "# \n",
    "# Zadanie:\n",
    "# Máš zoznam predajov. Každý predaj obsahuje meno krajiny.\n",
    "# Spočítaj, koľko predajov bolo v každej krajine.\n",
    "\n",
    "predaje = [\n",
    "    {\"krajina\": \"Slovensko\"},\n",
    "    {\"krajina\": \"Česko\"},\n",
    "    {\"krajina\": \"Slovensko\"},\n",
    "    {\"krajina\": \"Rakúsko\"},\n",
    "    {\"krajina\": \"Česko\"},\n",
    "    {\"krajina\": \"Slovensko\"}\n",
    "]\n",
    "\n",
    "# Tvoj kód sem\n",
    "\n",
    "predane_kusy = {}\n",
    "\n",
    "for predaj in predaje:\n",
    "    krajina = predaj[\"krajina\"]\n",
    "\n",
    "    if krajina in predane_kusy:\n",
    "        predane_kusy[krajina] += 1\n",
    "    else:\n",
    "        predane_kusy[krajina] = 1\n",
    "\n",
    "print(predane_kusy)\n",
    "\n"
   ]
  },
  {
   "cell_type": "code",
   "execution_count": 15,
   "id": "ac77b944",
   "metadata": {},
   "outputs": [
    {
     "name": "stdout",
     "output_type": "stream",
     "text": [
      "Heslá sú:\n",
      "Platné heslá sú: BezpecneHeslo1\n",
      "Neplatné heslá sú: BezpecneHeslo1\n"
     ]
    }
   ],
   "source": [
    "# Úloha 3: Zoznam správnych hesiel\n",
    "# \n",
    "# Zadanie:\n",
    "# Máš zoznam hesiel.\n",
    "# Vyber heslá, ktoré majú:\n",
    "# - aspoň 8 znakov,\n",
    "# - aspoň jedno číslo,\n",
    "# - aspoň jedno veľké písmeno.\n",
    "# Platné heslá ulož do `platne_hesla`, ostatné do `neplatne_hesla`.\n",
    "\n",
    "hesla = [\n",
    "    \"admin123\",\n",
    "    \"Heslo1\",\n",
    "    \"superheslo\",\n",
    "    \"BezpecneHeslo1\",\n",
    "    \"koder123\",\n",
    "    \"Programovanie\"\n",
    "]\n",
    "\n",
    "platne_hesla = []\n",
    "neplatne_hesla = []\n",
    "\n",
    "for heslo in hesla:\n",
    "    obsahuje_cislo = False\n",
    "    obsahuje_velke_pismeno = False\n",
    "    for znak in heslo:\n",
    "        if znak.isdigit():\n",
    "            obsahuje_cislo = True\n",
    "        if znak.isupper():\n",
    "            obsahuje_velke_pismeno = True\n",
    "\n",
    "    if len(heslo) >= 8 and obsahuje_cislo and obsahuje_velke_pismeno:\n",
    "        platne_hesla.append(heslo)\n",
    "    else:\n",
    "        neplatne_hesla.append(heslo)\n",
    "\n",
    "print(\"Heslá sú:\")\n",
    "print(f\"Platné heslá sú: {\", \".join(platne_hesla)}\")\n",
    "print(f\"Neplatné heslá sú: {\", \".join(platne_hesla)}\")"
   ]
  },
  {
   "cell_type": "code",
   "execution_count": 21,
   "id": "773b2b6d",
   "metadata": {},
   "outputs": [
    {
     "name": "stdout",
     "output_type": "stream",
     "text": [
      "{'A': ['Notebook', 'Chladnička'], 'B': ['Televízia', 'Tablet'], 'C': ['Práčka']}\n"
     ]
    }
   ],
   "source": [
    "# Úloha 4: Rozdelenie produktov podľa skladov\n",
    "# \n",
    "# Zadanie:\n",
    "# Máš zoznam produktov, kde každý má názov a sklad (napr. \"A\", \"B\", \"C\").\n",
    "# Vytvor slovník `produkty_podla_skladu`, kde kľúč bude sklad a hodnotou zoznam produktov.\n",
    "\n",
    "produkty = [\n",
    "    {\"nazov\": \"Notebook\", \"sklad\": \"A\"},\n",
    "    {\"nazov\": \"Televízia\", \"sklad\": \"B\"},\n",
    "    {\"nazov\": \"Chladnička\", \"sklad\": \"A\"},\n",
    "    {\"nazov\": \"Práčka\", \"sklad\": \"C\"},\n",
    "    {\"nazov\": \"Tablet\", \"sklad\": \"B\"}\n",
    "]\n",
    "\n",
    "# Tvoj kód sem\n",
    "\n",
    "produkty_podla_skladu = {}\n",
    "\n",
    "for produkt in produkty:\n",
    "    sklad = produkt[\"sklad\"]\n",
    "    nazov_produktu = produkt[\"nazov\"]\n",
    "\n",
    "    if sklad in produkty_podla_skladu:\n",
    "        produkty_podla_skladu[sklad].append(nazov_produktu)\n",
    "    else:\n",
    "        produkty_podla_skladu[sklad] = [nazov_produktu]\n",
    "\n",
    "print(produkty_podla_skladu)"
   ]
  },
  {
   "cell_type": "code",
   "execution_count": 24,
   "id": "eb2b6517",
   "metadata": {},
   "outputs": [
    {
     "name": "stdout",
     "output_type": "stream",
     "text": [
      "{'gmail.com': 2, 'centrum.sk': 1, 'yahoo.com': 1, 'zoznam.sk': 1, 'seznam.cz': 2}\n"
     ]
    }
   ],
   "source": [
    "# Úloha 5: Počet emailov podľa domény (ťažšia)\n",
    "# \n",
    "# Zadanie:\n",
    "# Máš zoznam emailov.\n",
    "# Spočítaj, koľko emailov patrí každej doméne (napr. gmail.com, seznam.cz, zoznam.sk atď.).\n",
    "\n",
    "emaily = [\n",
    "    \"peter123@gmail.com\",\n",
    "    \"jana@centrum.sk\",\n",
    "    \"lucia@yahoo.com\",\n",
    "    \"martin@zoznam.sk\",\n",
    "    \"admin007@seznam.cz\",\n",
    "    \"katka@seznam.cz\",\n",
    "    \"juro@gmail.com\"\n",
    "]\n",
    "\n",
    "zoznam_domen = {}\n",
    "\n",
    "for email in emaily:\n",
    "    meno, domena = email.split(\"@\")\n",
    "\n",
    "    if domena in zoznam_domen:\n",
    "        zoznam_domen[domena] += 1\n",
    "    else:\n",
    "        zoznam_domen[domena] = 1\n",
    "\n",
    "print(zoznam_domen)"
   ]
  }
 ],
 "metadata": {
  "kernelspec": {
   "display_name": "Python 3",
   "language": "python",
   "name": "python3"
  },
  "language_info": {
   "codemirror_mode": {
    "name": "ipython",
    "version": 3
   },
   "file_extension": ".py",
   "mimetype": "text/x-python",
   "name": "python",
   "nbconvert_exporter": "python",
   "pygments_lexer": "ipython3",
   "version": "3.13.2"
  }
 },
 "nbformat": 4,
 "nbformat_minor": 5
}
