{
 "cells": [
  {
   "cell_type": "code",
   "execution_count": null,
   "id": "69c9de62",
   "metadata": {},
   "outputs": [],
   "source": [
    "# Úloha: Evidencia návštevníkov eventu\n",
    "#\n",
    "# Cieľ: Uchovávať údaje o účastníkoch, ktorí prichádzajú na podujatie.\n",
    "# Každý účastník zadáva tieto informácie:\n",
    "# - meno a priezvisko\n",
    "# - vek (musí byť číslo)\n",
    "# - krajina (napr. Slovensko, Česko atď.)\n",
    "# - e-mail (nepovinný – ak nie je zadaný, nahraď \"nezadané\")\n",
    "#\n",
    "# Po zadaní účastníka sa jeho údaje uložia ako slovník do zoznamu `navstevnici`.\n",
    "# Zbieranie údajov prebieha dovtedy, kým používateľ nezadá, že už nechce pokračovať.\n",
    "#\n",
    "# Po skončení:\n",
    "# - vypíš celý zoznam návštevníkov,\n",
    "# - vypíš, koľko účastníkov je celkovo,\n",
    "# - a koľko ich je zo Slovenska.\n",
    "#\n",
    "# Bonus:\n",
    "# - ak niekto zadá nesprávny vek (napr. text), opýtaj sa znova – použite while + try/except"
   ]
  },
  {
   "cell_type": "code",
   "execution_count": null,
   "id": "d697a709",
   "metadata": {},
   "outputs": [],
   "source": [
    "navstevnici = []\n",
    "\n",
    "while True:\n",
    "    meno_priezvisko = input(\"Zadaj meno a priezvisko: \")\n",
    "    while True:\n",
    "        try:\n",
    "            vek = int(input(\"Zadaj vek: \"))\n",
    "            break\n",
    "        except ValueError:\n",
    "            print(\"Vek musí byť celé číslo\")\n",
    "    krajina = input(\"Zadaj krajinu: \")\n",
    "    email = input(\"zadaj email: \")\n",
    "\n",
    "    navstevnik = {} #slovník navstevnikov\n",
    "\n",
    "    navstevnik[\"Meno a priezvisko\"] = meno_priezvisko\n",
    "    navstevnik[\"Vek\"] = vek\n",
    "    navstevnik[\"Krajina\"] = krajina\n",
    "    navstevnik[\"Email\"] = email\n",
    "\n",
    "    navstevnici.append(navstevnik) #slovnik appendujeme do listu\n",
    "\n",
    "    pridanie_navstevnika = input(\"Chcete pridať nového návštevníka? (ano/nie)\")\n",
    "\n",
    "    if pridanie_navstevnika.lower() == \"nie\": #ak zadáme HOCIČO len nie \"nie\" tak sa cyklus opakuje\n",
    "        break\n",
    "\n",
    "navstevnik_sk = 0 #definujeme mnozstvo navstevnikov na začiatku aby sme mohli pripočétavať\n",
    "navstevnici_podla_krajiny = {} #vytvárame slovník pre krajiny\n",
    "\n",
    "for navstevnik in navstevnici:\n",
    "    sucet = len(navstevnici) #spocitavame jednotlivé záznamy v LISTE a nie v docasnej premennej - docasná premenna je zložena zo 4 objektov\n",
    "    krajina_navstevnika = navstevnik[\"Krajina\"] #krajinu si dávame do premennej\n",
    "\n",
    "    if navstevnik[\"Krajina\"] == \"Slovensko\": #ak niekoho krajina je slovensko tak pripočítame 1\n",
    "        navstevnik_sk += 1\n",
    "    \n",
    "    if krajina_navstevnika in navstevnici_podla_krajiny: #zistujeme či je krajina v slovniku navstevnici_podla_krajiny\n",
    "        navstevnici_podla_krajiny[krajina_navstevnika] += 1 #ak je tak pripocítame jednotku\n",
    "    else:\n",
    "        navstevnici_podla_krajiny[krajina_navstevnika] = 1 #ak nie je tak zadefinujeme prvý výskyt"
   ]
  },
  {
   "cell_type": "code",
   "execution_count": null,
   "id": "a74e5304",
   "metadata": {},
   "outputs": [
    {
     "name": "stdout",
     "output_type": "stream",
     "text": [
      "[{'Meno a priezvisko': 'Tadeas Galbavy', 'Vek': 25, 'Krajina': 'Slovensko', 'Email': 'tadeas@test.sk'}, {'Meno a priezvisko': 'Dominika Galbava', 'Vek': 25, 'Krajina': 'Slovensko', 'Email': 'dominika@test.sk'}, {'Meno a priezvisko': 'Yvona Bobrova', 'Vek': 30, 'Krajina': 'Cesko', 'Email': 'yvona@test.sk'}, {'Meno a priezvisko': 'Jozev Poliak', 'Vek': 50, 'Krajina': 'Polsko', 'Email': 'jozef@test.sk'}]\n",
      "Celkový počet návštevníkov je: 4 a z toho je 2 zo Slovenska.\n",
      "Celkový zoznam návstevnikov podľa krajiny je: \n",
      "Krajina: Slovensko | počet: 2\n",
      "Krajina: Cesko | počet: 1\n",
      "Krajina: Polsko | počet: 1\n"
     ]
    }
   ],
   "source": [
    "print(navstevnici) #printujeme list objektov\n",
    "print(f\"Celkový počet návštevníkov je: {sucet} a z toho je {navstevnik_sk} zo Slovenska.\") #printujeme sucet v liste objektov - nie v skovniku\n",
    "print(f\"Celkový zoznam návstevnikov podľa krajiny je: \")\n",
    "for kluc, hodnota in navstevnici_podla_krajiny.items(): #printujeme krajiny pod seba - kluc | hodnota\n",
    "    print(f\"Krajina: {kluc} | počet: {hodnota}\")"
   ]
  }
 ],
 "metadata": {
  "kernelspec": {
   "display_name": "Python 3",
   "language": "python",
   "name": "python3"
  },
  "language_info": {
   "codemirror_mode": {
    "name": "ipython",
    "version": 3
   },
   "file_extension": ".py",
   "mimetype": "text/x-python",
   "name": "python",
   "nbconvert_exporter": "python",
   "pygments_lexer": "ipython3",
   "version": "3.13.2"
  }
 },
 "nbformat": 4,
 "nbformat_minor": 5
}
