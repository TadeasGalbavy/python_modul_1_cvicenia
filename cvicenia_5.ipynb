{
 "cells": [
  {
   "cell_type": "code",
   "execution_count": null,
   "id": "69c9de62",
   "metadata": {},
   "outputs": [],
   "source": [
    "# ÚLOHA: ZBER OBJEDNÁVOK Z E-SHOPU\n",
    "#\n",
    "# Budeš zadávať údaje o objednávkach zákazníkov.\n",
    "# Každá objednávka obsahuje:\n",
    "# - meno zákazníka (string)\n",
    "# - názov produktu (string)\n",
    "# - množstvo (int)\n",
    "# - cena za kus (float alebo int)\n",
    "# - poznámku (nepovinné, string)\n",
    "#\n",
    "# CIEĽ:\n",
    "# 1. Každú objednávku ulož ako slovník.\n",
    "# 2. Každý slovník vlož do zoznamu objednavky.\n",
    "# 3. Použi cyklus, ktorý umožní zadať viac objednávok.\n",
    "# 4. Po ukončení zadávania:\n",
    "#    - vypíš všetky objednávky (ideálne cez pprint pre lepšiu čitateľnosť)\n",
    "#    - spočítaj a vypíš celkovú hodnotu objednávok (množstvo × cena za kus)\n",
    "#\n",
    "# BONUS:\n",
    "# ✅ Validuj vstup: množstvo a cena musia byť čísla – ak nie sú, pýtaj sa znova.\n",
    "# ✅ Ak poznámka nie je zadaná, ulož \"bez poznámky\"\n",
    "\n",
    "# TIP: vytvor si prázdny zoznam objednavky = []\n",
    "# Potom v cykle vytváraj slovníky a ukladaj ich do zoznamu"
   ]
  },
  {
   "cell_type": "code",
   "execution_count": null,
   "id": "cc12e82e",
   "metadata": {},
   "outputs": [
    {
     "name": "stdout",
     "output_type": "stream",
     "text": [
      "[{'Meno': 'Tadeas', 'Názov produktu': 'nohavice', 'Množstvo': 6, 'Jednotková cena': 12.45, 'Poznámka': 'bez poznámky'}, {'Meno': 'Tadeas', 'Názov produktu': 'tricko', 'Množstvo': 8, 'Jednotková cena': 10.12, 'Poznámka': 'bez poznámky'}]\n"
     ]
    }
   ],
   "source": [
    "objednavky = []\n",
    "\n",
    "while True:\n",
    "    meno_zakaznika = input(\"Zadajte Vaše meno: \")\n",
    "    názov_produktu = input(\"Zadajte názov produktu: \")\n",
    "\n",
    "    while True:\n",
    "        try:\n",
    "            produkt_množstvo = int(input(\"Zadajte množstvo: \"))\n",
    "            break\n",
    "        except ValueError:\n",
    "            print(\"Množstvo musí byť číslo\")\n",
    "    while True:\n",
    "        try:\n",
    "            produkt_unit_price = float(input(\"Zadajte cenu: \"))\n",
    "            break\n",
    "        except ValueError:\n",
    "            print(\"Cena musí byť číslo\")\n",
    "\n",
    "    poznámka = input(\"Zadajte poznámku\")\n",
    "    if poznámka == \"\": #If musí byť tu pretože sledujeme či je poznámka vyplnené - pod pridaním do slovníka by už bolo neskoro\n",
    "        poznámka = \"bez poznámky\"\n",
    "\n",
    "    objednavka_zakaznik = {}\n",
    "\n",
    "    # pridávame hodnoty ku kľúčom\n",
    "    objednavka_zakaznik[\"Meno\"] = meno_zakaznika\n",
    "    objednavka_zakaznik[\"Názov produktu\"] = názov_produktu\n",
    "    objednavka_zakaznik[\"Množstvo\"] = produkt_množstvo\n",
    "    objednavka_zakaznik[\"Jednotková cena\"] = produkt_unit_price\n",
    "    objednavka_zakaznik[\"Poznámka\"] = poznámka\n",
    "\n",
    "    objednavky.append(objednavka_zakaznik) #appendujeme slovník do zoznamu\n",
    "\n",
    "    nova_objednavka = input(\"Chcete pridať ďalšiu objednávku?: (ano/nie)\")\n",
    "\n",
    "    if nova_objednavka.lower() == \"nie\":\n",
    "        break\n",
    "    \n",
    "print(objednavky)"
   ]
  }
 ],
 "metadata": {
  "kernelspec": {
   "display_name": "Python 3",
   "language": "python",
   "name": "python3"
  },
  "language_info": {
   "codemirror_mode": {
    "name": "ipython",
    "version": 3
   },
   "file_extension": ".py",
   "mimetype": "text/x-python",
   "name": "python",
   "nbconvert_exporter": "python",
   "pygments_lexer": "ipython3",
   "version": "3.13.2"
  }
 },
 "nbformat": 4,
 "nbformat_minor": 5
}
