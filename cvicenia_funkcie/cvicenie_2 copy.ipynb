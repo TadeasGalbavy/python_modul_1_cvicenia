{
 "cells": [
  {
   "cell_type": "code",
   "execution_count": null,
   "id": "af6bb8a3",
   "metadata": {},
   "outputs": [
    {
     "name": "stdout",
     "output_type": "stream",
     "text": [
      "{'meno': 'Anna', 'vek': 22}\n",
      "{'meno': 'Braňo', 'vek': 25}\n",
      "{'meno': 'Cyril', 'vek': 20}\n",
      "1\n"
     ]
    }
   ],
   "source": [
    "studenti = [\n",
    "    {\"meno\": \"Anna\", \"vek\": 22},\n",
    "    {\"meno\": \"Braňo\", \"vek\": 25},\n",
    "    {\"meno\": \"Cyril\", \"vek\": 20}\n",
    "    ]\n",
    "\n",
    "pocet_studentov = 0\n",
    "sucet_vek = 0\n",
    "\n",
    "priemerny_vek = 0\n",
    "\n",
    "for student in studenti:\n",
    "    meno = student[\"meno\"]\n",
    "    vek = student[\"vek\"]\n",
    "    print(student)\n",
    "\n",
    "    if student in studenti:\n",
    "        pocet_studentov += 1\n",
    "    else:\n",
    "        pocet_studentov = 1\n",
    "\n",
    "print(pocet_studentov)"
   ]
  }
 ],
 "metadata": {
  "kernelspec": {
   "display_name": "Python 3",
   "language": "python",
   "name": "python3"
  },
  "language_info": {
   "codemirror_mode": {
    "name": "ipython",
    "version": 3
   },
   "file_extension": ".py",
   "mimetype": "text/x-python",
   "name": "python",
   "nbconvert_exporter": "python",
   "pygments_lexer": "ipython3",
   "version": "3.13.2"
  }
 },
 "nbformat": 4,
 "nbformat_minor": 5
}
