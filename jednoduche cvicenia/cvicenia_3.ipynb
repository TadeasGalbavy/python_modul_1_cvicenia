{
 "cells": [
  {
   "cell_type": "code",
   "execution_count": 1,
   "id": "90630151",
   "metadata": {},
   "outputs": [
    {
     "name": "stdout",
     "output_type": "stream",
     "text": [
      "{'IT': ['Peter', 'Martin'], 'HR': ['Jana', 'Lucia'], 'Marketing': ['Ivana']}\n"
     ]
    }
   ],
   "source": [
    "# Úloha 1: Zaradenie zamestnancov podľa oddelenia\n",
    "# \n",
    "# Zadanie:\n",
    "# Máš zoznam zamestnancov, kde každý zamestnanec má meno a oddelenie (napr. \"HR\", \"Marketing\", \"IT\").\n",
    "# \n",
    "# Vytvor slovník zamestnanci_podla_oddelenia, kde:\n",
    "# - kľúčom bude názov oddelenia,\n",
    "# - hodnotou bude zoznam mien zamestnancov v danom oddelení.\n",
    "\n",
    "zamestnanci = [\n",
    "    {\"meno\": \"Peter\", \"oddelenie\": \"IT\"},\n",
    "    {\"meno\": \"Jana\", \"oddelenie\": \"HR\"},\n",
    "    {\"meno\": \"Martin\", \"oddelenie\": \"IT\"},\n",
    "    {\"meno\": \"Ivana\", \"oddelenie\": \"Marketing\"},\n",
    "    {\"meno\": \"Lucia\", \"oddelenie\": \"HR\"}\n",
    "]\n",
    "\n",
    "zamestnanci_podla_oddelenia = {}\n",
    "\n",
    "for zamestnanec in zamestnanci:\n",
    "    meno = zamestnanec[\"meno\"]\n",
    "    oddelenie = zamestnanec[\"oddelenie\"]\n",
    "\n",
    "    if oddelenie in zamestnanci_podla_oddelenia:\n",
    "        zamestnanci_podla_oddelenia[oddelenie].append(meno)\n",
    "    else:\n",
    "        zamestnanci_podla_oddelenia[oddelenie] = [meno]\n",
    "\n",
    "print(zamestnanci_podla_oddelenia)\n"
   ]
  },
  {
   "cell_type": "code",
   "execution_count": 3,
   "id": "38b83228",
   "metadata": {},
   "outputs": [
    {
     "name": "stdout",
     "output_type": "stream",
     "text": [
      "{'Bratislava': 3, 'Košice': 2, 'Prešov': 1}\n"
     ]
    }
   ],
   "source": [
    "# Úloha 2: Počet študentov podľa mesta\n",
    "#\n",
    "# Zadanie:\n",
    "# Máš zoznam študentov, kde každý študent má meno a mesto, odkiaľ pochádza.\n",
    "#\n",
    "# Vytvor slovník studenti_podla_mesta, kde:\n",
    "# - kľúčom bude názov mesta,\n",
    "# - hodnotou bude počet študentov z daného mesta.\n",
    "\n",
    "studenti = [\n",
    "    {\"meno\": \"Adam\", \"mesto\": \"Bratislava\"},\n",
    "    {\"meno\": \"Zuzana\", \"mesto\": \"Košice\"},\n",
    "    {\"meno\": \"Tomáš\", \"mesto\": \"Bratislava\"},\n",
    "    {\"meno\": \"Eva\", \"mesto\": \"Prešov\"},\n",
    "    {\"meno\": \"Róbert\", \"mesto\": \"Košice\"},\n",
    "    {\"meno\": \"Simona\", \"mesto\": \"Bratislava\"}\n",
    "]\n",
    "\n",
    "studenti_podla_mesta = {}\n",
    "\n",
    "for student in studenti:\n",
    "    meno = student[\"meno\"]\n",
    "    mesto = student[\"mesto\"]\n",
    "\n",
    "    if mesto in studenti_podla_mesta:\n",
    "        studenti_podla_mesta[mesto] += 1\n",
    "    else:\n",
    "        studenti_podla_mesta[mesto] = 1\n",
    "\n",
    "print(studenti_podla_mesta)"
   ]
  }
 ],
 "metadata": {
  "kernelspec": {
   "display_name": "Python 3",
   "language": "python",
   "name": "python3"
  },
  "language_info": {
   "codemirror_mode": {
    "name": "ipython",
    "version": 3
   },
   "file_extension": ".py",
   "mimetype": "text/x-python",
   "name": "python",
   "nbconvert_exporter": "python",
   "pygments_lexer": "ipython3",
   "version": "3.13.2"
  }
 },
 "nbformat": 4,
 "nbformat_minor": 5
}
