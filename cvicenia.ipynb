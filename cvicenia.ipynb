{
 "cells": [
  {
   "cell_type": "markdown",
   "id": "963866c3",
   "metadata": {},
   "source": [
    "Úloha 1"
   ]
  },
  {
   "cell_type": "code",
   "execution_count": 6,
   "id": "cd9f4720",
   "metadata": {},
   "outputs": [],
   "source": [
    "#Máš zoznam produktov, každý produkt je slovník s názvom a kategóriou.\n",
    "# Potrebujeme uložiť názvy produktov do dvoch listov: elektronika a oblecenie podľa kategórie.\n",
    "\n",
    "produkty = [\n",
    "    {\"id\":1, \"nazov\": \"Notebook\", \"kategoria\": \"elektronika\"},\n",
    "    {\"id\":2, \"nazov\": \"Tričko\", \"kategoria\": \"oblecenie\"},\n",
    "    {\"id\":3, \"nazov\": \"Televízia\", \"kategoria\": \"elektronika\"},\n",
    "    {\"id\":4, \"nazov\": \"Džínsy\", \"kategoria\": \"oblecenie\"}\n",
    "]"
   ]
  },
  {
   "cell_type": "code",
   "execution_count": null,
   "id": "ef5a7bd2",
   "metadata": {},
   "outputs": [],
   "source": [
    "#riešenie\n",
    "\n",
    "produkty = [\n",
    "    {\"id\":1, \"nazov\": \"Notebook\", \"kategoria\": \"elektronika\"},\n",
    "    {\"id\":2, \"nazov\": \"Tričko\", \"kategoria\": \"oblecenie\"},\n",
    "    {\"id\":3, \"nazov\": \"Televízia\", \"kategoria\": \"elektronika\"},\n",
    "    {\"id\":4, \"nazov\": \"Džínsy\", \"kategoria\": \"oblecenie\"}\n",
    "]\n",
    "\n",
    "elektronika = []\n",
    "oblecenie = []\n",
    "\n",
    "for produkt in produkty:\n",
    "    if produkt[\"kategoria\"] == \"elektronika\":\n",
    "        elektronika.append(produkt)\n",
    "    elif produkt[\"kategoria\"] == \"oblecenie\":\n",
    "        oblecenie.append(produkt)\n",
    "\n",
    "print(\"Názvy produktov elektroniky:\")\n",
    "for produkt in elektronika:\n",
    "    print(f\"Názvy produktov v elektronika sú {produkt[\"nazov\"]}\")\n",
    "\n",
    "print(\"------------------------------\")\n",
    "\n",
    "print(\"Názvy produktov oblečenia\")\n",
    "for produkt in oblecenie:\n",
    "    print(f\"Názvy produktov v elektronika sú {produkt[\"nazov\"]}\")"
   ]
  },
  {
   "cell_type": "markdown",
   "id": "687f617a",
   "metadata": {},
   "source": [
    "Úloha 2"
   ]
  },
  {
   "cell_type": "code",
   "execution_count": null,
   "id": "7e464201",
   "metadata": {},
   "outputs": [],
   "source": [
    "#Zo zoznamu e-mailov vyber všetky adresy, ktoré končia na .sk, a ulož ich do zoznamu slovenske_emaily.\n",
    "\n",
    "emaily = [\n",
    "    \"peter@gmail.com\",\n",
    "    \"jana@centrum.sk\",\n",
    "    \"lucia@yahoo.com\",\n",
    "    \"martin@zoznam.sk\",\n",
    "    \"katka@seznam.cz\"\n",
    "]"
   ]
  },
  {
   "cell_type": "code",
   "execution_count": null,
   "id": "b27b62d4",
   "metadata": {},
   "outputs": [],
   "source": [
    "#riešenie\n",
    "\n",
    "emaily = [\n",
    "    \"peter@gmail.com\",\n",
    "    \"jana@centrum.sk\",\n",
    "    \"lucia@yahoo.com\",\n",
    "    \"martin@zoznam.sk\",\n",
    "    \"katka@seznam.cz\"\n",
    "]\n",
    "\n",
    "slovenske_emaily = []\n",
    "\n",
    "for email in emaily:\n",
    "    if email.endswith(\".sk\"):\n",
    "        slovenske_emaily.append(email)\n",
    "\n",
    "print(f\"Slovenské emaily sú:\")\n",
    "print(\"\\n\".join(slovenske_emaily))"
   ]
  },
  {
   "cell_type": "markdown",
   "id": "2c07cd71",
   "metadata": {},
   "source": [
    "Úloha 3"
   ]
  },
  {
   "cell_type": "code",
   "execution_count": null,
   "id": "998ac87c",
   "metadata": {},
   "outputs": [],
   "source": [
    "#Máš zoznam názvov miest (niektoré sa opakujú).\n",
    "#Uprav ho tak, aby si mal zoznam unikatne_mesta, kde bude každé mesto iba raz.\n",
    "\n",
    "mesta = [\"Bratislava\", \"Praha\", \"Košice\", \"Praha\", \"Bratislava\", \"Ostrava\"]"
   ]
  },
  {
   "cell_type": "code",
   "execution_count": null,
   "id": "8c3f68c8",
   "metadata": {},
   "outputs": [],
   "source": [
    "#riešenie\n",
    "\n",
    "mesta = [\"Bratislava\", \"Praha\", \"Košice\", \"Praha\", \"Bratislava\", \"Ostrava\"]\n",
    "\n",
    "unikatne_mesta = []\n",
    "\n",
    "for mesto in mesta:\n",
    "    if mesto not in unikatne_mesta:\n",
    "        unikatne_mesta.append(mesto)\n",
    "\n",
    "print(unikatne_mesta)"
   ]
  },
  {
   "cell_type": "markdown",
   "id": "7f3db6e9",
   "metadata": {},
   "source": [
    "Úloha 4"
   ]
  },
  {
   "cell_type": "code",
   "execution_count": null,
   "id": "64330119",
   "metadata": {},
   "outputs": [],
   "source": [
    "#Zo slovníka zákazníkov ulož do listu plnolety_zakaznici iba mena tých, ktorí majú 18 rokov a viac.\n",
    "#pre istotu si slovníky z listu ulož do plnolety_zakaznici_list aby sme neprišli o dáta\n",
    "\n",
    "zakaznici = [\n",
    "    {\"meno\": \"Peter\", \"vek\": 17},\n",
    "    {\"meno\": \"Jana\", \"vek\": 22},\n",
    "    {\"meno\": \"Martin\", \"vek\": 19},\n",
    "    {\"meno\": \"Ivana\", \"vek\": 16}\n",
    "]"
   ]
  },
  {
   "cell_type": "code",
   "execution_count": null,
   "id": "021d90e9",
   "metadata": {},
   "outputs": [],
   "source": [
    "zakaznici = [\n",
    "    {\"meno\": \"Peter\", \"vek\": 17},\n",
    "    {\"meno\": \"Jana\", \"vek\": 22},\n",
    "    {\"meno\": \"Martin\", \"vek\": 19},\n",
    "    {\"meno\": \"Ivana\", \"vek\": 16}\n",
    "]\n",
    "\n",
    "plnolety_zakaznici_list = []\n",
    "plnolety_zakaznik = []\n",
    "\n",
    "for zakaznik in zakaznici:\n",
    "    if zakaznik[\"vek\"] >= 18:\n",
    "        plnolety_zakaznici_list.append(zakaznik)\n",
    "\n",
    "#print(plnolety_zakaznici)\n",
    "\n",
    "for meno_plnolety_zakaznik in plnolety_zakaznici_list:\n",
    "    plnolety_zakaznik.append(meno_plnolety_zakaznik[\"meno\"])\n",
    "\n",
    "print(f\"Plnoletý zákazníci sú:\")\n",
    "print(\"\\n\".join(plnolety_zakaznik))"
   ]
  },
  {
   "cell_type": "markdown",
   "id": "5d54df8d",
   "metadata": {},
   "source": [
    "Úloha 5"
   ]
  },
  {
   "cell_type": "code",
   "execution_count": null,
   "id": "4ca33c34",
   "metadata": {},
   "outputs": [],
   "source": [
    "#V slovníku používateľa over, či obsahuje kľúč \"email\".\n",
    "#Ak áno, vypíš \"Email existuje\", inak vypíš \"Email neexistuje\".\n",
    "\n",
    "pouzivatelia = {\n",
    "    \"meno\": \"Anna\",\n",
    "    \"vek\": 25\n",
    "}"
   ]
  },
  {
   "cell_type": "code",
   "execution_count": null,
   "id": "902b31b3",
   "metadata": {},
   "outputs": [
    {
     "name": "stdout",
     "output_type": "stream",
     "text": [
      "Email neexistuje\n"
     ]
    }
   ],
   "source": [
    "# riešenie\n",
    "pouzivatelia = {\n",
    "    \"meno\": \"Anna\",\n",
    "    \"vek\": 25\n",
    "}\n",
    "\n",
    "if \"email\" in pouzivatelia:\n",
    "    print(\"Email existuje\")\n",
    "else:\n",
    "    print(\"Email neexistuje\")\n",
    "\n",
    "#tu nemusím používať FOR funkciu aby prechádzal každé 1 pole v slovníku\n",
    "#používame len IF pretože sa pýtame priamo na tento slovník"
   ]
  },
  {
   "cell_type": "markdown",
   "id": "cf47e3c1",
   "metadata": {},
   "source": [
    "Úloha 6"
   ]
  },
  {
   "cell_type": "code",
   "execution_count": null,
   "id": "94923df5",
   "metadata": {},
   "outputs": [],
   "source": [
    "# Úloha 1: Vyfiltruj e-maily obsahujúce čísla\n",
    "# \n",
    "# Zadanie:\n",
    "# Zo zoznamu e-mailových adries vyber všetky, ktoré obsahujú aspoň jednu číslicu (0-9).\n",
    "# Výsledok ulož do zoznamu `emaily_s_cislom` (iba unikátne e-maily).\n",
    "# \n",
    "# Hint:\n",
    "# - Použi vnorený for cyklus: prvý ide cez e-maily, druhý cez znaky v e-maile.\n",
    "# - Ak nájdeš číslo, pridaj e-mail do zoznamu (nezabudni na unikáty).\n",
    "# - Použi break, aby si po nájdení čísla zbytočne neiteroval ďalej.\n",
    "\n",
    "emaily = [\n",
    "    \"peter123@gmail.com\",\n",
    "    \"jana@centrum.sk\",\n",
    "    \"lucia@yahoo.com\",\n",
    "    \"martin@zoznam.sk\",\n",
    "    \"admin007@seznam.cz\",\n",
    "    \"katka@seznam.cz\"\n",
    "]"
   ]
  },
  {
   "cell_type": "code",
   "execution_count": null,
   "id": "75b64f1a",
   "metadata": {},
   "outputs": [
    {
     "name": "stdout",
     "output_type": "stream",
     "text": [
      "Emaily s číslom sú:\n",
      "peter123@gmail.com\n",
      "admin007@seznam.cz\n"
     ]
    }
   ],
   "source": [
    "emaily = [\n",
    "    \"peter123@gmail.com\",\n",
    "    \"jana@centrum.sk\",\n",
    "    \"lucia@yahoo.com\",\n",
    "    \"martin@zoznam.sk\",\n",
    "    \"admin007@seznam.cz\",\n",
    "    \"katka@seznam.cz\"\n",
    "]\n",
    "\n",
    "emaily_s_cislom = []\n",
    "\n",
    "for email in emaily:\n",
    "    for znak in email:\n",
    "        if znak.isdigit():\n",
    "            emaily_s_cislom.append(email)\n",
    "            break\n",
    "\n",
    "print(\"Emaily s číslom sú:\")\n",
    "print(\"\\n\".join(emaily_s_cislom))\n",
    "\n",
    "#ak by sme chceli ešte dodatočnú kontrolu ohľadom duplicít tak:\n",
    "#if email not in emaily_s_cislom:\n",
    "#    emaily_s_cislom.append(email)\n"
   ]
  },
  {
   "cell_type": "markdown",
   "id": "2200d19e",
   "metadata": {},
   "source": [
    "Úloha 7"
   ]
  },
  {
   "cell_type": "code",
   "execution_count": null,
   "id": "50d93f1e",
   "metadata": {},
   "outputs": [],
   "source": [
    "# Úloha 2: Vyfiltruj produkty podľa ceny\n",
    "# \n",
    "# Zadanie:\n",
    "# Máš zoznam produktov, každý produkt má názov a cenu.\n",
    "# Vyfiltruj všetky produkty s cenou vyššou ako 100 EUR do nového zoznamu `drahsie_produkty`.\n",
    "\n",
    "produkty = [\n",
    "    {\"nazov\": \"Notebook\", \"cena\": 899},\n",
    "    {\"nazov\": \"Tričko\", \"cena\": 19},\n",
    "    {\"nazov\": \"Televízia\", \"cena\": 499},\n",
    "    {\"nazov\": \"Slúchadlá\", \"cena\": 99},\n",
    "    {\"nazov\": \"Ponožky\", \"cena\": 5}\n",
    "]"
   ]
  },
  {
   "cell_type": "code",
   "execution_count": 18,
   "id": "5813e9d9",
   "metadata": {},
   "outputs": [
    {
     "name": "stdout",
     "output_type": "stream",
     "text": [
      "Produkty s cenou vyššou ako 100€ sú:\n",
      "Notebook\n",
      "Televízia\n"
     ]
    }
   ],
   "source": [
    "produkty = [\n",
    "    {\"nazov\": \"Notebook\", \"cena\": 899},\n",
    "    {\"nazov\": \"Tričko\", \"cena\": 19},\n",
    "    {\"nazov\": \"Televízia\", \"cena\": 499},\n",
    "    {\"nazov\": \"Slúchadlá\", \"cena\": 99},\n",
    "    {\"nazov\": \"Ponožky\", \"cena\": 5}\n",
    "]\n",
    "\n",
    "drahsie_produkty_dict = []\n",
    "drahsie_produkty = []\n",
    "\n",
    "for produkt in produkty:\n",
    "    if produkt[\"cena\"] > 100:\n",
    "        drahsie_produkty_dict.append(produkt)\n",
    "\n",
    "for produkt in drahsie_produkty_dict:\n",
    "    drahsie_produkty.append(produkt[\"nazov\"])\n",
    "\n",
    "print(\"Produkty s cenou vyššou ako 100€ sú:\")\n",
    "print(\"\\n\".join(drahsie_produkty))"
   ]
  },
  {
   "cell_type": "markdown",
   "id": "800ff27d",
   "metadata": {},
   "source": [
    "Úloha 8"
   ]
  },
  {
   "cell_type": "code",
   "execution_count": null,
   "id": "4757dc86",
   "metadata": {},
   "outputs": [],
   "source": [
    "# Úloha 3: Spočítaj počet e-mailov podľa domény\n",
    "# \n",
    "# Zadanie:\n",
    "# Máš zoznam e-mailových adries.\n",
    "# Spočítaj, koľko adries má doménu:\n",
    "# - @gmail.com\n",
    "# - @seznam.cz\n",
    "# - @centrum.sk\n",
    "# Výsledky ulož do slovníka `domeny`, napríklad {\"gmail.com\": 2, \"seznam.cz\": 1, ...}.\n",
    "\n",
    "emaily = [\n",
    "    \"peter123@gmail.com\",\n",
    "    \"jana@centrum.sk\",\n",
    "    \"lucia@yahoo.com\",\n",
    "    \"martin@zoznam.sk\",\n",
    "    \"admin007@seznam.cz\",\n",
    "    \"katka@seznam.cz\",\n",
    "    \"juro@gmail.com\"\n",
    "]"
   ]
  },
  {
   "cell_type": "code",
   "execution_count": null,
   "id": "8f5c0d1e",
   "metadata": {},
   "outputs": [
    {
     "name": "stdout",
     "output_type": "stream",
     "text": [
      "{'gmail.com': 2, 'centrum.sk': 1, 'yahoo.com': 1, 'zoznam.sk': 1, 'seznam.cz': 2}\n"
     ]
    }
   ],
   "source": [
    "emaily = [\n",
    "    \"peter123@gmail.com\",\n",
    "    \"jana@centrum.sk\",\n",
    "    \"lucia@yahoo.com\",\n",
    "    \"martin@zoznam.sk\",\n",
    "    \"admin007@seznam.cz\",\n",
    "    \"katka@seznam.cz\",\n",
    "    \"juro@gmail.com\"\n",
    "]\n",
    "\n",
    "emailove_meno = []\n",
    "emailova_domena = []\n",
    "\n",
    "domeny = {}\n",
    "\n",
    "for email in emaily:\n",
    "    meno, domena = email.split(\"@\")\n",
    "    emailove_meno.append(meno)\n",
    "    emailova_domena.append(domena)\n",
    "\n",
    "for domena in emailova_domena:\n",
    "    if domena in domeny:\n",
    "        domeny[domena] += 1\n",
    "    else:\n",
    "        domeny[domena] = 1\n",
    "\n",
    "print(domeny)\n",
    "\n",
    "#kratší zápis:\n",
    "# for domena in emailova_domena:\n",
    "#   domeny[domena] = domeny.get(domena, 0) + 1"
   ]
  },
  {
   "cell_type": "markdown",
   "id": "4e20385a",
   "metadata": {},
   "source": [
    "Úloha 9"
   ]
  },
  {
   "cell_type": "code",
   "execution_count": null,
   "id": "10aee964",
   "metadata": {},
   "outputs": [],
   "source": [
    "# Úloha 4: Vytvor slovník produktov podľa kategórií\n",
    "# \n",
    "# Zadanie:\n",
    "# Máš zoznam produktov, kde každý produkt má kategóriu.\n",
    "# Vytvor slovník `produkty_podla_kategorie`,\n",
    "# kde kľúč bude kategória a hodnota zoznam názvov produktov tejto kategórie.\n",
    "\n",
    "produkty = [\n",
    "    {\"nazov\": \"Notebook\", \"kategoria\": \"elektronika\"},\n",
    "    {\"nazov\": \"Tričko\", \"kategoria\": \"oblecenie\"},\n",
    "    {\"nazov\": \"Televízia\", \"kategoria\": \"elektronika\"},\n",
    "    {\"nazov\": \"Džínsy\", \"kategoria\": \"oblecenie\"},\n",
    "    {\"nazov\": \"Slúchadlá\", \"kategoria\": \"elektronika\"}\n",
    "]\n"
   ]
  },
  {
   "cell_type": "code",
   "execution_count": 33,
   "id": "176bc302",
   "metadata": {},
   "outputs": [
    {
     "name": "stdout",
     "output_type": "stream",
     "text": [
      "{'elektronika': ['Notebook', 'Televízia', 'Slúchadlá'], 'oblecenie': ['Tričko', 'Džínsy']}\n"
     ]
    }
   ],
   "source": [
    "produkty = [\n",
    "    {\"nazov\": \"Notebook\", \"kategoria\": \"elektronika\"},\n",
    "    {\"nazov\": \"Tričko\", \"kategoria\": \"oblecenie\"},\n",
    "    {\"nazov\": \"Televízia\", \"kategoria\": \"elektronika\"},\n",
    "    {\"nazov\": \"Džínsy\", \"kategoria\": \"oblecenie\"},\n",
    "    {\"nazov\": \"Slúchadlá\", \"kategoria\": \"elektronika\"}\n",
    "]\n",
    "\n",
    "produkty_podla_kategorie = {}\n",
    "\n",
    "for produkt in produkty:\n",
    "    kategoria = produkt[\"kategoria\"]\n",
    "    nazov = produkt[\"nazov\"]\n",
    "\n",
    "    if kategoria in produkty_podla_kategorie:\n",
    "        produkty_podla_kategorie[kategoria].append(nazov)\n",
    "    else:\n",
    "        produkty_podla_kategorie[kategoria] = [nazov]\n",
    "\n",
    "print(produkty_podla_kategorie)\n",
    "\n"
   ]
  },
  {
   "cell_type": "markdown",
   "id": "34c25341",
   "metadata": {},
   "source": [
    "Úloha 10"
   ]
  },
  {
   "cell_type": "code",
   "execution_count": null,
   "id": "f3788451",
   "metadata": {},
   "outputs": [],
   "source": [
    "# Úloha 5: Kontrola platných hesiel\n",
    "# \n",
    "# Zadanie:\n",
    "# Máš zoznam hesiel.\n",
    "# Vytvor dva zoznamy:\n",
    "# - `platne_hesla` (heslá s dĺžkou aspoň 8 znakov a obsahujú aspoň jedno číslo),\n",
    "# - `neplatne_hesla` (ostatné).\n",
    "# \n",
    "# Hint:\n",
    "# - Skontroluj dĺžku hesla: len(heslo) >= 8\n",
    "# - Skontroluj, či heslo obsahuje aspoň jednu číslicu (vnorený for cyklus).\n",
    "\n",
    "hesla = [\n",
    "    \"admin123\",\n",
    "    \"heslo\",\n",
    "    \"qwerty987\",\n",
    "    \"abc\",\n",
    "    \"bezpecneHeslo1\",\n",
    "    \"koder\"\n",
    "]"
   ]
  },
  {
   "cell_type": "code",
   "execution_count": null,
   "id": "e63917ae",
   "metadata": {},
   "outputs": [
    {
     "name": "stdout",
     "output_type": "stream",
     "text": [
      "['admin123', 'qwerty987', 'bezpecneHeslo1']\n",
      "['heslo', 'abc', 'koder']\n"
     ]
    }
   ],
   "source": [
    "hesla = [\n",
    "    \"admin123\",\n",
    "    \"heslo\",\n",
    "    \"qwerty987\",\n",
    "    \"abc\",\n",
    "    \"bezpecneHeslo1\",\n",
    "    \"koder\"\n",
    "]\n",
    "\n",
    "platne_hesla = []\n",
    "neplatne_hesla = []\n",
    "\n",
    "for heslo in hesla:\n",
    "    obsahuje_cislo = False  # Pred vnútorným forom\n",
    "    for znak in heslo:\n",
    "        if znak.isdigit():\n",
    "            obsahuje_cislo = True\n",
    "            break\n",
    "\n",
    "    if len(heslo) >= 8 and obsahuje_cislo:\n",
    "        platne_hesla.append(heslo)\n",
    "    else:\n",
    "        neplatne_hesla.append(heslo)\n",
    "\n",
    "print(platne_hesla)\n",
    "print(neplatne_hesla)"
   ]
  }
 ],
 "metadata": {
  "kernelspec": {
   "display_name": "Python 3",
   "language": "python",
   "name": "python3"
  },
  "language_info": {
   "codemirror_mode": {
    "name": "ipython",
    "version": 3
   },
   "file_extension": ".py",
   "mimetype": "text/x-python",
   "name": "python",
   "nbconvert_exporter": "python",
   "pygments_lexer": "ipython3",
   "version": "3.13.2"
  }
 },
 "nbformat": 4,
 "nbformat_minor": 5
}
