{
 "cells": [
  {
   "cell_type": "code",
   "execution_count": null,
   "id": "7b48c82d",
   "metadata": {},
   "outputs": [],
   "source": [
    "# ---------------------------------------------\n",
    "# 🧪 Zadanie: Evidencia zamestnancov\n",
    "# ---------------------------------------------\n",
    "\n",
    "zamestnanci = [\n",
    "    {\"meno\": \"Anna\", \"oddelenie\": \"Marketing\", \"plat\": 1200, \"roky\": 3},\n",
    "    {\"meno\": \"Braňo\", \"oddelenie\": \"IT\", \"plat\": 1800, \"roky\": 5},\n",
    "    {\"meno\": \"Cyril\", \"oddelenie\": \"Marketing\", \"plat\": 1350, \"roky\": 2},\n",
    "    {\"meno\": \"Dana\", \"oddelenie\": \"IT\", \"plat\": 2000, \"roky\": 8},\n",
    "    {\"meno\": \"Eva\", \"oddelenie\": \"Obchod\", \"plat\": 1500, \"roky\": 4},\n",
    "]\n",
    "\n",
    "# ---------------------------------------------\n",
    "# 🔹 Funkcia 1: vypocitaj_celkovy_rozpocet(zamestnanci)\n",
    "# Vráť súčet všetkých platov (1200 + 1800 + ...)\n",
    "# ---------------------------------------------\n",
    "\n",
    "\n",
    "# ---------------------------------------------\n",
    "# 🔹 Funkcia 2: priemerny_plat_v_oddeleni(zamestnanci, oddelenie)\n",
    "# Vráť priemerný plat zamestnancov z daného oddelenia (napr. \"IT\")\n",
    "# ---------------------------------------------\n",
    "\n",
    "\n",
    "# ---------------------------------------------\n",
    "# 🔹 Funkcia 3: najdlhsia_prax(zamestnanci)\n",
    "# Vráť meno a roky zamestnanca s najvyšším počtom rokov v práci\n",
    "# ---------------------------------------------\n",
    "\n",
    "\n",
    "# ---------------------------------------------\n",
    "# 🔹 Funkcia 4: vypis_vysledky(rozpocet, priemer, meno, roky)\n",
    "# Vypíš výsledky vo forme:\n",
    "# - Celkový rozpočet na platy: ...\n",
    "# - Priemerný plat v oddelení IT: ...\n",
    "# - Najskúsenejší zamestnanec: ... (X rokov)\n",
    "# ---------------------------------------------\n",
    "\n",
    "\n",
    "# ---------------------------------------------\n",
    "# 🔹 Funkcia 5: main()\n",
    "# Zavolaj všetky funkcie a spoj ich do hlavného toku\n",
    "# ---------------------------------------------\n",
    "\n",
    "\n",
    "# ---------------------------------------------\n",
    "# 🔹 Spustenie hlavného programu\n",
    "# ---------------------------------------------\n",
    "# if __name__ == \"__main__\":\n",
    "#     main()\n"
   ]
  },
  {
   "cell_type": "code",
   "execution_count": null,
   "id": "249319df",
   "metadata": {},
   "outputs": [
    {
     "name": "stdout",
     "output_type": "stream",
     "text": [
      "[{'meno': 'Anna', 'oddelenie': 'Marketing', 'plat': 1200, 'roky': 3}, {'meno': 'Braňo', 'oddelenie': 'IT', 'plat': 1800, 'roky': 5}, {'meno': 'Cyril', 'oddelenie': 'Marketing', 'plat': 1350, 'roky': 2}, {'meno': 'Dana', 'oddelenie': 'IT', 'plat': 2000, 'roky': 8}, {'meno': 'Eva', 'oddelenie': 'Obchod', 'plat': 1500, 'roky': 4}]\n",
      "7850\n"
     ]
    }
   ],
   "source": [
    "# 🔹 Funkcia 1: vypocitaj_celkovy_rozpocet(zamestnanci)\n",
    "def vypocitaj_celkovy_rozpocet(zamestnanci):\n",
    "    celkovy_plat = 0\n",
    "\n",
    "    for zamestnanec in zamestnanci:\n",
    "        plat = zamestnanec[\"plat\"]\n",
    "\n",
    "        celkovy_plat += plat\n",
    "    \n",
    "    return celkovy_plat\n",
    "\n",
    "# 🔹 Funkcia 2: priemerny_plat_v_oddeleni(zamestnanci, oddelenie)\n",
    "def priemerny_plat_v_oddeleni(zamestnanci, oddelenie):\n",
    "    priemerny_plat_podla_oddelenia = {}\n",
    "    \n",
    "\n",
    "    for zamestnanec in zamestnanci:\n",
    "        oddelenie = zamestnanec[\"oddelenie\"]\n",
    "        priemerny_plat_podla_oddelenia\n",
    "\n",
    "\n",
    "\n",
    "def main():\n",
    "    zamestnanci = [\n",
    "        {\"meno\": \"Anna\", \"oddelenie\": \"Marketing\", \"plat\": 1200, \"roky\": 3},\n",
    "        {\"meno\": \"Braňo\", \"oddelenie\": \"IT\", \"plat\": 1800, \"roky\": 5},\n",
    "        {\"meno\": \"Cyril\", \"oddelenie\": \"Marketing\", \"plat\": 1350, \"roky\": 2},\n",
    "        {\"meno\": \"Dana\", \"oddelenie\": \"IT\", \"plat\": 2000, \"roky\": 8},\n",
    "        {\"meno\": \"Eva\", \"oddelenie\": \"Obchod\", \"plat\": 1500, \"roky\": 4},\n",
    "    ]\n",
    "\n",
    "    print(zamestnanci)\n",
    "    print(vypocitaj_celkovy_rozpocet(zamestnanci))\n",
    "\n",
    "if __name__ == \"__main__\":\n",
    "    main()"
   ]
  }
 ],
 "metadata": {
  "kernelspec": {
   "display_name": "Python 3",
   "language": "python",
   "name": "python3"
  },
  "language_info": {
   "codemirror_mode": {
    "name": "ipython",
    "version": 3
   },
   "file_extension": ".py",
   "mimetype": "text/x-python",
   "name": "python",
   "nbconvert_exporter": "python",
   "pygments_lexer": "ipython3",
   "version": "3.13.2"
  }
 },
 "nbformat": 4,
 "nbformat_minor": 5
}
