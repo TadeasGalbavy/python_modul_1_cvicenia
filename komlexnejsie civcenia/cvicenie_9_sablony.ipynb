{
 "cells": [
  {
   "cell_type": "code",
   "execution_count": 2,
   "id": "ddc268a3",
   "metadata": {},
   "outputs": [
    {
     "name": "stdout",
     "output_type": "stream",
     "text": [
      "{'Eva': 3, 'Jozef': 1, 'Anna': 2}\n"
     ]
    }
   ],
   "source": [
    "# --------------------------------------------\n",
    "# ŠABLÓNA 1: POČÍTANIE VÝSKYTOV DO SLOVNÍKA\n",
    "# --------------------------------------------\n",
    "# Máš zoznam mien zákazníkov:\n",
    "# [\"Eva\", \"Jozef\", \"Anna\", \"Eva\", \"Anna\", \"Eva\"]\n",
    "#\n",
    "# Vytvor slovník, ktorý spočíta, koľkokrát sa každé meno v zozname vyskytuje.\n",
    "#\n",
    "# Výstup by mal byť:\n",
    "# {\"Eva\": 3, \"Jozef\": 1, \"Anna\": 2}\n",
    "#\n",
    "# Nepoužívaj žiadne knižnice, len základné Python veci (list, dict, for, if)\n",
    "\n",
    "zoznam_zakaznikov = [\"Eva\", \"Jozef\", \"Anna\", \"Eva\", \"Anna\", \"Eva\"]\n",
    "zoznam_mien = {}\n",
    "\n",
    "for zakaznik in zoznam_zakaznikov:\n",
    "    if zakaznik in zoznam_mien:\n",
    "        zoznam_mien[zakaznik] += 1\n",
    "    else:\n",
    "        zoznam_mien[zakaznik] = 1\n",
    "\n",
    "print(zoznam_mien)\n"
   ]
  },
  {
   "cell_type": "code",
   "execution_count": null,
   "id": "496f3a48",
   "metadata": {},
   "outputs": [
    {
     "name": "stdout",
     "output_type": "stream",
     "text": [
      "{'Eva': 37, 'Jozef': 15, 'Anna': 5}\n",
      "{'Eva': [10, 20, 7], 'Jozef': [15], 'Anna': [5]}\n"
     ]
    }
   ],
   "source": [
    "# --------------------------------------------\n",
    "# ŠABLÓNA 2: SČÍTANIE HODNÔT PODĽA KĽÚČA\n",
    "# --------------------------------------------\n",
    "# Máš zoznam objednávok v tvare:\n",
    "# [\n",
    "#     {\"Meno\": \"Eva\", \"Cena\": 10},\n",
    "#     {\"Meno\": \"Jozef\", \"Cena\": 15},\n",
    "#     {\"Meno\": \"Eva\", \"Cena\": 20},\n",
    "#     {\"Meno\": \"Anna\", \"Cena\": 5},\n",
    "#     {\"Meno\": \"Eva\", \"Cena\": 7}\n",
    "# ]\n",
    "#\n",
    "# Vytvor slovník, kde bude ku každému menu zákazníka priradený\n",
    "# súčet všetkých jeho objednávok.\n",
    "#\n",
    "# Výstup by mal byť:\n",
    "# {'Eva': 37, 'Jozef': 15, 'Anna': 5}\n",
    "\n",
    "zoznam_objednavok = [\n",
    "    {\"Meno\": \"Eva\", \"Cena\": 10},\n",
    "    {\"Meno\": \"Jozef\", \"Cena\": 15},\n",
    "    {\"Meno\": \"Eva\", \"Cena\": 20},\n",
    "    {\"Meno\": \"Anna\", \"Cena\": 5},\n",
    "    {\"Meno\": \"Eva\", \"Cena\": 7}\n",
    "]\n",
    "\n",
    "sucet_objednavok = {}\n",
    "sucet_objednavok_2 = {}\n",
    "\n",
    "for objednavka in zoznam_objednavok:\n",
    "    klient = objednavka[\"Meno\"]\n",
    "    suma_obj = objednavka[\"Cena\"]\n",
    "\n",
    "    #if klient - pýtame sa priamo na premennú klient či sa nachádza v sucet objednavok\n",
    "    # je to preto lebo v premennej klient je kluc meno a na to sa pýtame\n",
    "    if klient in sucet_objednavok:\n",
    "        sucet_objednavok[klient] += suma_obj # suma_obj nie je v [] pretože potrebujeme tieto hodnoty sčítať\n",
    "    else:                                    # ak by sme tam mali [suma_obj] tak vypíšeme jednotlivé číselné hodnoty\n",
    "        sucet_objednavok[klient] = suma_obj\n",
    "\n",
    "    #príklad keby máme [suma_obj]\n",
    "    if klient in sucet_objednavok_2:\n",
    "        sucet_objednavok_2[klient] += [suma_obj]\n",
    "    else:\n",
    "        sucet_objednavok_2[klient] = [suma_obj]\n",
    "\n",
    "print(sucet_objednavok) # hodnoty spočítame\n",
    "print(sucet_objednavok_2) #hodnoty nespočítame, len vypíšeme jednotlivé hodnoty"
   ]
  },
  {
   "cell_type": "code",
   "execution_count": 15,
   "id": "e340a3e4",
   "metadata": {},
   "outputs": [
    {
     "name": "stdout",
     "output_type": "stream",
     "text": [
      "Eva\n",
      "37\n"
     ]
    }
   ],
   "source": [
    "# ------------------------------------------------------\n",
    "# ŠABLÓNA 3: HĽADANIE MAXIMÁLNEJ HODNOTY V SLOVNÍKU\n",
    "# ------------------------------------------------------\n",
    "# Máš tento slovník:\n",
    "# {\n",
    "#     \"Eva\": 37,\n",
    "#     \"Jozef\": 15,\n",
    "#     \"Anna\": 5\n",
    "# }\n",
    "#\n",
    "# Zisti, kto má najvyššiu hodnotu (v tomto prípade: Eva),\n",
    "# a ulož:\n",
    "# - meno do premennej `top_klient`\n",
    "# - hodnotu do premennej `max_hodnota`\n",
    "#\n",
    "# Na hľadanie maxima nepoužívaj max() – chcem, aby si to skúsil ručne\n",
    "# pomocou for cyklu a podmienky.\n",
    "\n",
    "slovník = {\n",
    "     \"Eva\": 37,\n",
    "     \"Jozef\": 15,\n",
    "     \"Anna\": 5\n",
    " }\n",
    "\n",
    "top_klient = None\n",
    "max_hodnota = 0\n",
    "\n",
    "for slovo in slovník:\n",
    "    #pomocou slovník[slovo] si siaham na hodnoty kľúčov\n",
    "    if slovník[slovo] > max_hodnota:\n",
    "        max_hodnota = slovník[slovo] #do max hodnoty pridávam hodnotu kľúča\n",
    "        top_klient = slovo # do top klienta dávam kľúč - v tomto prípade mená\n",
    "\n",
    "print(top_klient)\n",
    "print(max_hodnota)"
   ]
  }
 ],
 "metadata": {
  "kernelspec": {
   "display_name": "Python 3",
   "language": "python",
   "name": "python3"
  },
  "language_info": {
   "codemirror_mode": {
    "name": "ipython",
    "version": 3
   },
   "file_extension": ".py",
   "mimetype": "text/x-python",
   "name": "python",
   "nbconvert_exporter": "python",
   "pygments_lexer": "ipython3",
   "version": "3.13.2"
  }
 },
 "nbformat": 4,
 "nbformat_minor": 5
}
