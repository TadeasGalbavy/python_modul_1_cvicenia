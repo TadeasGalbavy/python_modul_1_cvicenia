{
 "cells": [
  {
   "cell_type": "code",
   "execution_count": null,
   "id": "0764961d",
   "metadata": {},
   "outputs": [],
   "source": [
    "# Úloha: Refaktorovanie do funkcií – evidencia návštevníkov\n",
    "\n",
    "# 👇 1. Funkcia na získanie vstupu od používateľa\n",
    "# Vráti slovník s kľúčmi: \"Meno a priezvisko\", \"Vek\", \"Krajina\", \"Email\"\n",
    "# Vek validuj cez while + try/except, email môže byť prázdny\n",
    "# Funkcia sa môže volať napr. `ziskaj_navstevnika()`\n",
    "\n",
    "# 👇 2. Hlavný cyklus bude volať túto funkciu a zbierať údaje do zoznamu `navstevnici`\n",
    "\n",
    "# 👇 3. Po zbere údajov vytvor:\n",
    "# - premenú `pocet_sk` → spočíta návštevníkov zo Slovenska\n",
    "# - slovník `statistika_podla_krajiny` → počet za každú krajinu\n",
    "\n",
    "# 👇 4. Funkcia `vypis_statistiky()`:\n",
    "# - prijme zoznam navstevnikov, pocet_sk a slovnik krajín\n",
    "# - vypíše:\n",
    "#   - počet všetkých návštevníkov\n",
    "#   - počet zo Slovenska\n",
    "#   - výpis podľa krajiny v tvare \"Krajina: X\"\n",
    "\n",
    "# 👇 5. BONUS: Ak zvládneš, funkcia `uloz_do_json(navstevnici)` uloží dáta do súboru `navstevnici.json`\n",
    "\n",
    "# 👉 Celý skript by mal bežať v štýle:\n",
    "# def main():\n",
    "#     ...\n",
    "# main()"
   ]
  }
 ],
 "metadata": {
  "language_info": {
   "name": "python"
  }
 },
 "nbformat": 4,
 "nbformat_minor": 5
}
